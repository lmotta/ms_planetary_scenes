{
 "cells": [
  {
   "cell_type": "code",
   "execution_count": 10,
   "id": "f0d24d9b-d0c8-4322-b062-c616b4243678",
   "metadata": {},
   "outputs": [
    {
     "name": "stderr",
     "output_type": "stream",
     "text": [
      "Cloning into 'ms_planetary_scenes'...\n"
     ]
    },
    {
     "name": "stdout",
     "output_type": "stream",
     "text": [
      "Run \u001b[1;32mscenes_process.ipynb\u001b[0m from /home/jovyan/PlanetaryComputerExamples_lmotta/ms_planetary_scenes and \u001b[1;33mEnjoy!\n"
     ]
    }
   ],
   "source": [
    "%%sh\n",
    "path_clone=~/PlanetaryComputerExamples_lmotta\n",
    "mkdir -p $path_clone\n",
    "cd $path_clone\n",
    "repo=ms_planetary_scenes\n",
    "[ -d $repo ] && rm -r $repo\n",
    "git clone https://github.com/lmotta/$repo.git\n",
    "cd ~\n",
    "#\n",
    "LIGHT_GREEN='\\033[1;32m'\n",
    "YELLOW='\\033[1;33m'\n",
    "NC='\\033[0m' # No Color\n",
    "printf \"Run ${LIGHT_GREEN}scenes_process.ipynb${NC} from ${path_clone}/${repo} and ${YELLOW}Enjoy!\\n\""
   ]
  }
 ],
 "metadata": {
  "kernelspec": {
   "display_name": "Python 3 (ipykernel)",
   "language": "python",
   "name": "python3"
  },
  "language_info": {
   "codemirror_mode": {
    "name": "ipython",
    "version": 3
   },
   "file_extension": ".py",
   "mimetype": "text/x-python",
   "name": "python",
   "nbconvert_exporter": "python",
   "pygments_lexer": "ipython3",
   "version": "3.10.6"
  }
 },
 "nbformat": 4,
 "nbformat_minor": 5
}
