{
 "cells": [
  {
   "cell_type": "markdown",
   "id": "a1df8616-b714-4297-86d2-24d8630b293e",
   "metadata": {},
   "source": [
    "# Github\n",
    "## Copy for user\n",
    "Open from URL: https://raw.githubusercontent.com/lmotta/ms_planetary_scenes/main/clone_ms_planetary_scenes.ipynb\n",
    "\n",
    "## Common commands\n",
    "git add .\n",
    "git commit -m \"\"\n",
    "git push -u origin main"
   ]
  },
  {
   "cell_type": "markdown",
   "id": "bab5fe85-6177-48dc-a3c6-376d11b78918",
   "metadata": {},
   "source": [
    "- ipyleaflet: https://ipyleaflet.readthedocs.io/en/latest/\n",
    "- Basemaps: https://ipyleaflet.readthedocs.io/en/latest/map_and_basemaps/basemaps.html\n"
   ]
  },
  {
   "cell_type": "code",
   "execution_count": 1,
   "id": "0a12cad1-10d5-4295-b913-1ff9e44adf2f",
   "metadata": {},
   "outputs": [
    {
     "data": {
      "text/plain": [
       "(0, 17, 1)"
      ]
     },
     "execution_count": 1,
     "metadata": {},
     "output_type": "execute_result"
    }
   ],
   "source": [
    "import ipyleaflet\n",
    "ipyleaflet.version_info"
   ]
  },
  {
   "cell_type": "markdown",
   "id": "0b2d1ec4-3d64-4750-a6c5-0aa1b06a7736",
   "metadata": {},
   "source": [
    "# Icon\n",
    "https://fontawesome.com/v5/search"
   ]
  },
  {
   "cell_type": "code",
   "execution_count": 2,
   "id": "ceab04d0-675c-4f5f-b8df-54ffe6e71e30",
   "metadata": {},
   "outputs": [
    {
     "data": {
      "application/vnd.jupyter.widget-view+json": {
       "model_id": "70529c72bdd74a0db749ff2d1e5789f4",
       "version_major": 2,
       "version_minor": 0
      },
      "text/plain": [
       "Button(description='Search scenes', icon='minus-square', style=ButtonStyle())"
      ]
     },
     "metadata": {},
     "output_type": "display_data"
    }
   ],
   "source": [
    "from ipywidgets import Button\n",
    "#icon = 'search-plus'\n",
    "icon = 'minus-square'\n",
    "\n",
    "Button(\n",
    "        description='Search scenes',\n",
    "        disabled=False,\n",
    "        button_style='',\n",
    "        icon=icon\n",
    ")\n"
   ]
  },
  {
   "cell_type": "markdown",
   "id": "e98482f5-9961-45a2-94aa-321d2b7a0ae1",
   "metadata": {
    "tags": []
   },
   "source": [
    "# Package scenes_package"
   ]
  },
  {
   "cell_type": "markdown",
   "id": "d9b57261-860f-40e6-964d-4480cfba6054",
   "metadata": {
    "tags": []
   },
   "source": [
    "## SearchScenes"
   ]
  },
  {
   "cell_type": "code",
   "execution_count": 3,
   "id": "504b3fce-80ca-45ee-98d7-cf85e065c12b",
   "metadata": {},
   "outputs": [
    {
     "data": {
      "application/vnd.jupyter.widget-view+json": {
       "model_id": "b5acaf0662f44f9682ac711f7b65e0af",
       "version_major": 2,
       "version_minor": 0
      },
      "text/plain": [
       "HBox(children=(IntProgress(value=0), Label(value=''), Button(description='Cancel', icon='ban', style=ButtonSty…"
      ]
     },
     "metadata": {},
     "output_type": "display_data"
    },
    {
     "name": "stdout",
     "output_type": "stream",
     "text": [
      "0 23 23\n"
     ]
    }
   ],
   "source": [
    "from scenes_package.planetarycomputerscenes import SearchScenes\n",
    "from scenes_package.widgets import ProgressThread\n",
    "\n",
    "from datetime import datetime\n",
    "\n",
    "geom = {\n",
    "    'type': 'Polygon',\n",
    "    'coordinates': [\n",
    "        [[-49.251709, -15.306125],[-49.251709, -14.876525],\n",
    "         [-48.592529, -14.876525],[-48.592529, -15.306125],\n",
    "         [-49.251709, -15.306125]]\n",
    "    ]\n",
    "}\n",
    "\n",
    "d_ini = datetime(2022, 12,1)\n",
    "d_end = datetime(2023, 1,20)\n",
    "\n",
    "collections_assets = { 'landsat-c2-l2': ['red', 'green', 'blue'], 'sentinel-2-l2a': ['visual'] }\n",
    "#collections_assets = { 'landsat-c2-l2': ['red', 'green', 'blue'] }\n",
    "#collections_assets = { 'planet-nicfi-visual': ['red', 'green', 'blue'] } # error\n",
    "c = SearchScenes( collections_assets )\n",
    "c.collections = ['landsat-c2-l2']\n",
    "def show():\n",
    "    print( len(c.errors), len(c.valids), c.total)\n",
    "\n",
    "\"\"\"\n",
    "c.process( d_ini, d_end,geom )\n",
    "show()\n",
    "\"\"\"\n",
    "\n",
    "#\"\"\"\"\n",
    "progress = ProgressThread()\n",
    "display( progress.widget )\n",
    "c.process( d_ini, d_end,geom, progress, show )\n",
    "#\"\"\""
   ]
  },
  {
   "cell_type": "code",
   "execution_count": 4,
   "id": "8f9f08bc-c30e-4c7e-8848-baa5f8c8d0d3",
   "metadata": {},
   "outputs": [],
   "source": [
    "from scenes_package.planetarycomputerscenes import SearchScenes\n",
    "from scenes_package.widgets import ProgressThread\n",
    "\n",
    "from scenes_package.planetarycomputerscenes import SearchScenes\n",
    "c = SearchScenes( { 'landsat-c2-l2': ['red', 'green', 'blue'] } )\n",
    "item = c.itemScene('LC09_L2SP_223068_20221203_02_T2')"
   ]
  },
  {
   "cell_type": "code",
   "execution_count": 5,
   "id": "a4174a07-bf71-4148-94c8-e787952fb673",
   "metadata": {},
   "outputs": [
    {
     "name": "stdout",
     "output_type": "stream",
     "text": [
      "LC09_L2SP_223068_20221203_02_T2 {'type': 'Polygon', 'coordinates': [[[-50.7061184, -10.5269053], [-51.0902492, -12.2582742], [-49.4075066, -12.6146317], [-49.0341374, -10.8788967], [-50.7061184, -10.5269053]]]}\n"
     ]
    }
   ],
   "source": [
    "print( item.scene, item.geometry )"
   ]
  },
  {
   "cell_type": "markdown",
   "id": "9fdd1936-abea-43a1-b247-78a8c62f0e26",
   "metadata": {
    "tags": []
   },
   "source": [
    "## Utils"
   ]
  },
  {
   "cell_type": "code",
   "execution_count": 6,
   "id": "2afece8a-646b-463a-abfd-2993814e2490",
   "metadata": {},
   "outputs": [
    {
     "name": "stdout",
     "output_type": "stream",
     "text": [
      "LC09_L2SP_223068_20221203_02_T2\n"
     ]
    },
    {
     "data": {
      "image/svg+xml": [
       "<svg xmlns=\"http://www.w3.org/2000/svg\" xmlns:xlink=\"http://www.w3.org/1999/xlink\" width=\"100.0\" height=\"100.0\" viewBox=\"-51.17375808 -12.698141080000001 2.2231301599999966 2.2547451600000024\" preserveAspectRatio=\"xMinYMin meet\"><g transform=\"matrix(1,0,0,-1,0,-23.141537)\"><path fill-rule=\"evenodd\" fill=\"#66cc99\" stroke=\"#555555\" stroke-width=\"0.04509490320000005\" opacity=\"0.6\" d=\"M -50.706118,-10.526905 L -51.090249,-12.258274 L -49.407507,-12.614632 L -49.034137,-10.878897 L -50.706118,-10.526905 z\" /></g></svg>"
      ],
      "text/plain": [
       "<shapely.geometry.polygon.Polygon at 0x7f1615a3ada0>"
      ]
     },
     "metadata": {},
     "output_type": "display_data"
    }
   ],
   "source": [
    "from scenes_package.utils import UtilScenes\n",
    "from ipywidgets import Output\n",
    "from shapely.geometry import shape\n",
    "\n",
    "# .) downloadScene\n",
    "\"\"\"\n",
    "path_download = '/home/jovyan/Downloads'\n",
    "w_output = Output()\n",
    "display( w_output )\n",
    "with w_output:\n",
    "    UtilScenes.downloadScene( item, path_download )\n",
    "\"\"\"\n",
    "#.) UtilScenes.footprint\n",
    "#\"\"\"\"\n",
    "layer = UtilScenes.footprint( 'teste', { item.scene: item } )\n",
    "feat = layer['features'][0]\n",
    "print( feat['properties']['scene'] )\n",
    "display( shape(feat['geometry']) )\n",
    "#\"\"\""
   ]
  },
  {
   "cell_type": "markdown",
   "id": "0d662140-6f94-439b-ad60-6cf443376f9c",
   "metadata": {
    "tags": []
   },
   "source": [
    "## Widgets"
   ]
  },
  {
   "cell_type": "markdown",
   "id": "04f4e926-94b9-43b1-96f0-cd98b05d0526",
   "metadata": {
    "tags": []
   },
   "source": [
    "### LabelCoordinateControl and UploadGeojson"
   ]
  },
  {
   "cell_type": "code",
   "execution_count": 7,
   "id": "426cdb11-440a-46aa-8fa5-ebb58746940c",
   "metadata": {},
   "outputs": [
    {
     "data": {
      "application/vnd.jupyter.widget-view+json": {
       "model_id": "70f3ac832a444d408a62ca52161a8428",
       "version_major": 2,
       "version_minor": 0
      },
      "text/plain": [
       "VBox(children=(HBox(children=(FileUpload(value={}, accept='.geojson', description='Upload Geojson (WGS 84 - EP…"
      ]
     },
     "metadata": {},
     "output_type": "display_data"
    }
   ],
   "source": [
    "from scenes_package.widgets import UploadGeojson, LabelCoordinateControl\n",
    "\n",
    "from ipyleaflet import (\n",
    "    Map,\n",
    "    Output,\n",
    "    basemaps, basemap_to_tiles,\n",
    "    LayersControl,\n",
    ")\n",
    "\n",
    "from ipywidgets import VBox\n",
    "\n",
    "center=(-15.768, -47.862) # Brasilia EPSG:4326\n",
    "map_ = Map(\n",
    "    basemap=basemap_to_tiles(basemaps.OpenStreetMap.Mapnik),\n",
    "    center=center, # Its use EPSG:4326 (but m.crs = 3857)\n",
    "    zoom=8,\n",
    "    scroll_wheel_zoom=True,\n",
    "    controls=[ LayersControl(position='topright') ]\n",
    ")\n",
    "control_coordinate = LabelCoordinateControl( map_, 'bottomleft' )\n",
    "\n",
    "w_output = Output()\n",
    "c = UploadGeojson( map_, control_coordinate, w_output )\n",
    "w = VBox( [ c.widget, w_output, map_ ] )\n",
    "display( w )\n"
   ]
  },
  {
   "cell_type": "markdown",
   "id": "d06b187c-4c8e-488f-80c0-f6700690d782",
   "metadata": {
    "tags": []
   },
   "source": [
    "### DrawControlRectangle"
   ]
  },
  {
   "cell_type": "code",
   "execution_count": 8,
   "id": "1c39364d-3a5b-4a07-95c4-89b969333178",
   "metadata": {},
   "outputs": [
    {
     "data": {
      "application/vnd.jupyter.widget-view+json": {
       "model_id": "f6e9849834f948238c6fe2142abaf22b",
       "version_major": 2,
       "version_minor": 0
      },
      "text/plain": [
       "Map(center=[-15.768, -47.862], controls=(LayersControl(options=['position'], position='topright'), ZoomControl…"
      ]
     },
     "metadata": {},
     "output_type": "display_data"
    }
   ],
   "source": [
    "from scenes_package.widgets import DrawControlRectangle\n",
    "from ipyleaflet import (\n",
    "    Map,\n",
    "    basemaps, basemap_to_tiles,\n",
    ")\n",
    "from ipywidgets import VBox\n",
    "\n",
    "center=(-15.768, -47.862) # Brasilia EPSG:4326\n",
    "map_ = Map(\n",
    "    basemap=basemap_to_tiles(basemaps.OpenStreetMap.Mapnik),\n",
    "    center=center, # Its use EPSG:4326 (but m.crs = 3857)\n",
    "    zoom=8,\n",
    "    scroll_wheel_zoom=True,\n",
    "    controls=[ LayersControl(position='topright') ]\n",
    ")\n",
    "\n",
    "c = DrawControlRectangle( map_, 'topleft' )\n",
    "display( map_ )"
   ]
  },
  {
   "cell_type": "code",
   "execution_count": 9,
   "id": "816c7423-e79c-466c-bceb-9b34eb30bd52",
   "metadata": {},
   "outputs": [
    {
     "data": {
      "text/plain": [
       "{'type': 'Polygon',\n",
       " 'coordinates': [[[-49.844971, -15.57236],\n",
       "   [-49.844971, -15.047839],\n",
       "   [-49.235229, -15.047839],\n",
       "   [-49.235229, -15.57236],\n",
       "   [-49.844971, -15.57236]]]}"
      ]
     },
     "execution_count": 9,
     "metadata": {},
     "output_type": "execute_result"
    }
   ],
   "source": [
    "#shape(c.geometry)\n",
    "c.geometry"
   ]
  },
  {
   "cell_type": "markdown",
   "id": "9f9255e0-097c-4db1-aa93-cf91bf43b2a0",
   "metadata": {
    "tags": []
   },
   "source": [
    "###  Magnifying Glass Layer"
   ]
  },
  {
   "cell_type": "code",
   "execution_count": 10,
   "id": "0446f253-463d-4713-b7a8-3d39fde6fc35",
   "metadata": {},
   "outputs": [
    {
     "data": {
      "application/vnd.jupyter.widget-view+json": {
       "model_id": "80ad9dbb03e241a5a1ece2dab7026c14",
       "version_major": 2,
       "version_minor": 0
      },
      "text/plain": [
       "Map(center=[-15.768, -47.862], controls=(LayersControl(options=['position'], position='topright'), ZoomControl…"
      ]
     },
     "metadata": {},
     "output_type": "display_data"
    }
   ],
   "source": [
    "from scenes_package.widgets import MagnifyingGlassLayer\n",
    "\n",
    "from ipywidgets import Layout\n",
    "\n",
    "from ipyleaflet import (\n",
    "    Map,\n",
    "    basemaps, basemap_to_tiles,\n",
    "    LayersControl, ScaleControl,\n",
    ")\n",
    "\n",
    "center=(-15.768, -47.862) # Brasilia EPSG:4326\n",
    "map_ = Map(\n",
    "    basemap=basemap_to_tiles(basemaps.OpenStreetMap.Mapnik),\n",
    "    center=center, # Its use EPSG:4326 (but m.crs = 3857)\n",
    "    zoom=8,\n",
    "    scroll_wheel_zoom=True,\n",
    "    layout=Layout(width='100%', height='600px'),\n",
    "    controls=[LayersControl(position='topright')]\n",
    ")\n",
    "map_.add_control( ScaleControl( position='bottomleft') )\n",
    "\n",
    "c = MagnifyingGlassLayer( map_, 'bottomleft')\n",
    "\n",
    "map_"
   ]
  },
  {
   "cell_type": "markdown",
   "id": "b18101e0-2f92-40eb-a5e5-356430f489ef",
   "metadata": {},
   "source": [
    "### ProcessScenes"
   ]
  },
  {
   "cell_type": "code",
   "execution_count": 11,
   "id": "c96b35cb-c305-44de-a739-396db7123d9f",
   "metadata": {},
   "outputs": [
    {
     "data": {
      "application/vnd.jupyter.widget-view+json": {
       "model_id": "031b2cc131bd494a822c0bfaee5f051b",
       "version_major": 2,
       "version_minor": 0
      },
      "text/plain": [
       "VBox(children=(HBox(children=(Image(value=b'\\x89PNG\\r\\n\\x1a\\n\\x00\\x00\\x00\\rIHDR\\x00\\x00\\x01,\\x00\\x00\\x01\\r\\x08…"
      ]
     },
     "metadata": {},
     "output_type": "display_data"
    }
   ],
   "source": [
    "from ipywidgets import (\n",
    "    Layout, HBox, VBox,\n",
    "    Output,\n",
    "    Image, Label, HTML\n",
    ")\n",
    "from ipyleaflet import Map, basemaps, basemap_to_tiles\n",
    "\n",
    "from scenes_package.widgets import widgetPrevfogo, ProcessScenes\n",
    "from scenes_package.utils import UtilScenes\n",
    "\n",
    "center=(-15.768, -47.862) # Brasilia EPSG:4326\n",
    "map_ = Map(\n",
    "    basemap=basemap_to_tiles(basemaps.OpenStreetMap.Mapnik),\n",
    "    center=center, # Its use EPSG:4326 (but m.crs = 3857)\n",
    "    zoom=8,\n",
    "    scroll_wheel_zoom=True,\n",
    "    layout=Layout(width='100%', height='600px'),\n",
    ")\n",
    "\n",
    "w_output = Output()\n",
    "process = ProcessScenes( map_, w_output )\n",
    "ws_process = process.widgets\n",
    "\n",
    "w_lines = []\n",
    "w_lines.append( widgetPrevfogo() )\n",
    "w_lines.append( ws_process['search'] )\n",
    "w_lines.append( HBox( [ ws_process['result_search'], ws_process['valid_total'], ws_process['show_date_table'], ws_process['show_error_table'] ] ) )\n",
    "w_lines.append( HBox( [ ws_process['date_table'], ws_process['error_table'] ] ) )\n",
    "w_lines.append( ws_process['message'] )\n",
    "w_lines.append( w_output )\n",
    "w_lines.append( ws_process['upload'] )\n",
    "w_lines.append( map_ )\n",
    "\n",
    "display( VBox( w_lines ) )"
   ]
  }
 ],
 "metadata": {
  "kernelspec": {
   "display_name": "Python [conda env:notebook] *",
   "language": "python",
   "name": "conda-env-notebook-py"
  },
  "language_info": {
   "codemirror_mode": {
    "name": "ipython",
    "version": 3
   },
   "file_extension": ".py",
   "mimetype": "text/x-python",
   "name": "python",
   "nbconvert_exporter": "python",
   "pygments_lexer": "ipython3",
   "version": "3.10.6"
  }
 },
 "nbformat": 4,
 "nbformat_minor": 5
}
