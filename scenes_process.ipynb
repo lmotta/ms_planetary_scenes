{
 "cells": [
  {
   "cell_type": "code",
   "execution_count": 1,
   "id": "bcfd597e-a64c-43a5-8502-b8702110f513",
   "metadata": {},
   "outputs": [
    {
     "data": {
      "application/vnd.jupyter.widget-view+json": {
       "model_id": "6b8ad70888db4935b2fefcddad8540c9",
       "version_major": 2,
       "version_minor": 0
      },
      "text/plain": [
       "VBox(children=(HBox(children=(Image(value=b'\\x89PNG\\r\\n\\x1a\\n\\x00\\x00\\x00\\rIHDR\\x00\\x00\\x00\\x96\\x00\\x00\\x00\\x8…"
      ]
     },
     "metadata": {},
     "output_type": "display_data"
    }
   ],
   "source": [
    "from ipywidgets import (\n",
    "    Layout, HBox, VBox,\n",
    "    Output,\n",
    "    Image, Label, HTML\n",
    ")\n",
    "from ipyleaflet import Map, basemaps, basemap_to_tiles\n",
    "\n",
    "from scenes_package.widgets import widgetPrevfogo, ProcessScenes\n",
    "from scenes_package.utils import UtilScenes\n",
    "\n",
    "center=(-15.768, -47.862) # Brasilia EPSG:4326\n",
    "map_ = Map(\n",
    "    basemap=basemap_to_tiles(basemaps.OpenStreetMap.Mapnik),\n",
    "    center=center, # Its use EPSG:4326 (but m.crs = 3857)\n",
    "    zoom=8,\n",
    "    scroll_wheel_zoom=True,\n",
    "    layout=Layout(width='100%', height='600px'),\n",
    ")\n",
    "\n",
    "w_output = Output()\n",
    "process = ProcessScenes( map_, w_output )\n",
    "ws_process = process.widgets\n",
    "\n",
    "w_lines = []\n",
    "w_lines.append( widgetPrevfogo() )\n",
    "w_lines.append( ws_process['search'] )\n",
    "w_lines.append( HBox( [ ws_process['result_search'], ws_process['valid_total'], ws_process['show_date_table'], ws_process['show_error_table'] ] ) )\n",
    "w_lines.append( HBox( [ ws_process['date_table'], ws_process['error_table'] ] ) )\n",
    "w_lines.append( ws_process['message'] )\n",
    "w_lines.append( w_output )\n",
    "w_lines.append( ws_process['upload'] )\n",
    "w_lines.append( map_ )\n",
    "\n",
    "display( VBox( w_lines ) )"
   ]
  }
 ],
 "metadata": {
  "kernelspec": {
   "display_name": "Python [conda env:notebook] *",
   "language": "python",
   "name": "conda-env-notebook-py"
  },
  "language_info": {
   "codemirror_mode": {
    "name": "ipython",
    "version": 3
   },
   "file_extension": ".py",
   "mimetype": "text/x-python",
   "name": "python",
   "nbconvert_exporter": "python",
   "pygments_lexer": "ipython3",
   "version": "3.10.6"
  }
 },
 "nbformat": 4,
 "nbformat_minor": 5
}
