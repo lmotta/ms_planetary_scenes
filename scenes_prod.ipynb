{
 "cells": [
  {
   "cell_type": "code",
   "execution_count": null,
   "id": "922c12a3-1522-4db9-b294-f829ec5d1025",
   "metadata": {
    "tags": []
   },
   "outputs": [],
   "source": [
    "%run scenes_class.ipynb\n",
    "\n",
    "center=(-15.768, -47.862) # Brasilia EPSG:4326\n",
    "map_ = Map(\n",
    "    basemap=basemap_to_tiles(basemaps.OpenStreetMap.Mapnik),\n",
    "    center=center, # Its use EPSG:4326 (but m.crs = 3857)\n",
    "    zoom=8,\n",
    "    scroll_wheel_zoom=True,\n",
    "    layout=Layout(width='100%', height='600px'),\n",
    ")\n",
    "\n",
    "w_output = Output()\n",
    "# Controls\n",
    "processScenes = ProviderWidgetProcessScenes( map_, 'topleft', 'topright', w_output )\n",
    "drawControl = ProviderDrawControlRectangle( map_, 'topleft' )\n",
    "map_.add( FullScreenControl() ) # 'topleft'\n",
    "map_.add( SearchControl(\n",
    "    position=\"topleft\", zoom=10,\n",
    "    url='https://nominatim.openstreetmap.org/search?format=json&q={s}',\n",
    "))\n",
    "controlCoordinate = ProviderLabelCoordinateControl( map_, 'bottomleft' )\n",
    "map_.add_control(ScaleControl(position='bottomleft'))\n",
    "magnifyingControl = ProviderWidgetMagnifyingGlassLayer( map_, 'bottomleft')\n",
    "\n",
    "map_.add( LayersControl(position='topright') )\n",
    "\n",
    "# No Control\n",
    "searchScenes = ProviderWidgetSearchScenes( drawControl, processScenes.run )\n",
    "uploadGeojson = ProviderWidgetUploadGeojson( map_, 0 )\n",
    "\n",
    "# Widgets\n",
    "ws_search = searchScenes.widget()\n",
    "w_uploadGeojson = uploadGeojson.widget()\n",
    "ws_process = processScenes.widgets()\n",
    "w_btns_process = VBox( [ ws_process['button_error'], ws_process['button_clear'] ] )\n",
    "\n",
    "w_lines = []\n",
    "w_lines.append( HBox( [ ws_search['search'], w_btns_process ] ) )\n",
    "w_lines.append( HBox( [ ws_search['result'], ws_process['html_valid'] ] ) )\n",
    "w_lines.append( w_output )\n",
    "w_lines.append( w_uploadGeojson )\n",
    "w_lines.append( map_ )\n",
    "\n",
    "display( VBox( w_lines ) )\n"
   ]
  }
 ],
 "metadata": {
  "kernelspec": {
   "display_name": "Python [conda env:notebook] *",
   "language": "python",
   "name": "conda-env-notebook-py"
  },
  "language_info": {
   "codemirror_mode": {
    "name": "ipython",
    "version": 3
   },
   "file_extension": ".py",
   "mimetype": "text/x-python",
   "name": "python",
   "nbconvert_exporter": "python",
   "pygments_lexer": "ipython3",
   "version": "3.10.6"
  }
 },
 "nbformat": 4,
 "nbformat_minor": 5
}
