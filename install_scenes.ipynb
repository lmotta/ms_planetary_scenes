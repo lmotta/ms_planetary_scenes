{
 "cells": [
  {
   "cell_type": "code",
   "execution_count": null,
   "id": "f0d24d9b-d0c8-4322-b062-c616b4243678",
   "metadata": {},
   "outputs": [],
   "source": [
    "%%sh\n",
    "download_script () {\n",
    "    f_http=$1\n",
    "    f_name=$2\n",
    "    echo 'Download script \"'$f_name'\"'\n",
    "    wget $f_http -q -O $f_name\n",
    "}\n",
    "\n",
    "\n",
    "path_download=lmotta_scene\n",
    "http_repo='https://raw.githubusercontent.com/lmotta/ms_planetary/main'\n",
    "l_script=\"scenes_class.ipynb scenes_prod.ipynb\"\n",
    "\n",
    "mkdir -p $path_download\n",
    "for f_name in $l_script\n",
    "do\n",
    "    download_script $http_repo'/'$f_name $f_name\n",
    "    mv -f $f_name './'$path_download\n",
    "done\n",
    "echo 'Open and run ./'$path_download'/'$f_name\n"
   ]
  }
 ],
 "metadata": {
  "kernelspec": {
   "display_name": "Python 3 (ipykernel)",
   "language": "python",
   "name": "python3"
  },
  "language_info": {
   "codemirror_mode": {
    "name": "ipython",
    "version": 3
   },
   "file_extension": ".py",
   "mimetype": "text/x-python",
   "name": "python",
   "nbconvert_exporter": "python",
   "pygments_lexer": "ipython3",
   "version": "3.10.6"
  }
 },
 "nbformat": 4,
 "nbformat_minor": 5
}
